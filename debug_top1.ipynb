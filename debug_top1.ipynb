{
 "cells": [
  {
   "cell_type": "code",
   "execution_count": 22,
   "metadata": {},
   "outputs": [
    {
     "name": "stdout",
     "output_type": "stream",
     "text": [
      "77\n"
     ]
    },
    {
     "name": "stderr",
     "output_type": "stream",
     "text": [
      "/home/sp2058/DEFT/.venv/lib/python3.11/site-packages/torch/storage.py:414: FutureWarning: You are using `torch.load` with `weights_only=False` (the current default value), which uses the default pickle module implicitly. It is possible to construct malicious pickle data which will execute arbitrary code during unpickling (See https://github.com/pytorch/pytorch/blob/main/SECURITY.md#untrusted-models for more details). In a future release, the default value for `weights_only` will be flipped to `True`. This limits the functions that could be executed during unpickling. Arbitrary objects will no longer be allowed to be loaded via this mode unless they are explicitly allowlisted by the user via `torch.serialization.add_safe_globals`. We recommend you start setting `weights_only=True` for any use case where you don't have full control of the loaded file. Please open an issue on GitHub for any issues related to this experimental feature.\n",
      "  return torch.load(io.BytesIO(b))\n"
     ]
    }
   ],
   "source": [
    "import numpy as np\n",
    "\n",
    "correct = np.load(\"719_accuracy.npy\")\n",
    "info = np.load(\"719_info.npy\", allow_pickle=True)\n",
    "\n",
    "correct_worse = np.load(\"706_accuracy.npy\")\n",
    "info_worse = np.load(\"706_info.npy\", allow_pickle=True)\n",
    "\n",
    "class_ids = []\n",
    "class_ids_worse = []\n",
    "\n",
    "names, names_worse = [], []\n",
    "\n",
    "for inf in info:\n",
    "    class_ids.extend(inf[\"class_id\"])\n",
    "    names.extend(inf[\"name\"])\n",
    "\n",
    "for inf in info_worse:\n",
    "    class_ids_worse.extend(inf[\"class_id\"])\n",
    "    names_worse.extend(inf[\"name\"])\n",
    "\n",
    "class_ids = np.array(class_ids)\n",
    "class_ids_worse = np.array(class_ids_worse)\n",
    "names = np.array(names)\n",
    "names_worse = np.array(names_worse)\n",
    "\n",
    "mismatch = correct != correct_worse\n",
    "\n",
    "print(mismatch.sum())"
   ]
  },
  {
   "cell_type": "code",
   "execution_count": 23,
   "metadata": {},
   "outputs": [
    {
     "name": "stdout",
     "output_type": "stream",
     "text": [
      "n01494475 ILSVRC2012_val_00001676\n",
      "n01496331 ILSVRC2012_val_00000921\n",
      "n01580077 ILSVRC2012_val_00000880\n",
      "n01632458 ILSVRC2012_val_00000088\n",
      "n01667114 ILSVRC2012_val_00000229\n",
      "n01773797 ILSVRC2012_val_00000040\n",
      "n01806143 ILSVRC2012_val_00001146\n",
      "n01877812 ILSVRC2012_val_00000655\n",
      "n01985128 ILSVRC2012_val_00001381\n",
      "n01990800 ILSVRC2012_val_00000669\n",
      "n02058221 ILSVRC2012_val_00000207\n",
      "n02087046 ILSVRC2012_val_00000170\n",
      "n02093859 ILSVRC2012_val_00000062\n",
      "n02094433 ILSVRC2012_val_00000696\n",
      "n02097130 ILSVRC2012_val_00002573\n",
      "n02104029 ILSVRC2012_val_00000507\n",
      "n02105056 ILSVRC2012_val_00001109\n",
      "n02105855 ILSVRC2012_val_00000003\n",
      "n02107142 ILSVRC2012_val_00000134\n",
      "n02107312 ILSVRC2012_val_00004386\n",
      "n02113023 ILSVRC2012_val_00001096\n",
      "n02113799 ILSVRC2012_val_00000399\n",
      "n02167151 ILSVRC2012_val_00000956\n",
      "n02168699 ILSVRC2012_val_00000926\n",
      "n02172182 ILSVRC2012_val_00000342\n",
      "n02190166 ILSVRC2012_val_00001763\n",
      "n02328150 ILSVRC2012_val_00000010\n",
      "n02346627 ILSVRC2012_val_00000007\n",
      "n02361337 ILSVRC2012_val_00000675\n",
      "n02398521 ILSVRC2012_val_00001066\n",
      "n02408429 ILSVRC2012_val_00000306\n",
      "n02410509 ILSVRC2012_val_00002433\n",
      "n02488291 ILSVRC2012_val_00001254\n",
      "n02669723 ILSVRC2012_val_00000851\n",
      "n02769748 ILSVRC2012_val_00000459\n",
      "n02776631 ILSVRC2012_val_00000008\n",
      "n02791270 ILSVRC2012_val_00000076\n",
      "n02795169 ILSVRC2012_val_00000687\n",
      "n02823428 ILSVRC2012_val_00000654\n",
      "n02860847 ILSVRC2012_val_00000601\n",
      "n02892201 ILSVRC2012_val_00001145\n",
      "n03089624 ILSVRC2012_val_00001190\n",
      "n03216828 ILSVRC2012_val_00001729\n",
      "n03291819 ILSVRC2012_val_00000419\n",
      "n03394916 ILSVRC2012_val_00000957\n",
      "n03461385 ILSVRC2012_val_00000372\n",
      "n03494278 ILSVRC2012_val_00001030\n",
      "n03594734 ILSVRC2012_val_00000110\n",
      "n03637318 ILSVRC2012_val_00000427\n",
      "n03690938 ILSVRC2012_val_00001814\n",
      "n03724870 ILSVRC2012_val_00000608\n",
      "n03733281 ILSVRC2012_val_00000118\n",
      "n03742115 ILSVRC2012_val_00001318\n",
      "n03761084 ILSVRC2012_val_00000519\n",
      "n03788195 ILSVRC2012_val_00000680\n",
      "n03804744 ILSVRC2012_val_00000649\n",
      "n03838899 ILSVRC2012_val_00001464\n",
      "n03843555 ILSVRC2012_val_00000114\n",
      "n03873416 ILSVRC2012_val_00003004\n",
      "n03908714 ILSVRC2012_val_00004441\n",
      "n04067472 ILSVRC2012_val_00000473\n",
      "n04120489 ILSVRC2012_val_00001465\n",
      "n04141327 ILSVRC2012_val_00000039\n",
      "n04152593 ILSVRC2012_val_00001269\n",
      "n04296562 ILSVRC2012_val_00001388\n",
      "n04330267 ILSVRC2012_val_00000205\n",
      "n04428191 ILSVRC2012_val_00000416\n",
      "n04476259 ILSVRC2012_val_00000513\n",
      "n04479046 ILSVRC2012_val_00000291\n",
      "n04501370 ILSVRC2012_val_00001750\n",
      "n04507155 ILSVRC2012_val_00000381\n",
      "n04517823 ILSVRC2012_val_00000712\n",
      "n04522168 ILSVRC2012_val_00000895\n",
      "n04540053 ILSVRC2012_val_00001680\n",
      "n07579787 ILSVRC2012_val_00001611\n",
      "n07718747 ILSVRC2012_val_00000443\n",
      "n10565667 ILSVRC2012_val_00000255\n"
     ]
    }
   ],
   "source": [
    "for class_id, name in zip(class_ids[mismatch], names[mismatch]):\n",
    "    print(class_id, name)\n",
    "    worse_sample_filename = (\n",
    "        f\"outputs/samples/old_ckpt_new_sampling/{class_id}/{name}.png\"\n",
    "    )\n",
    "    new_sample_filename = f\"outputs/samples/new_ckpt_new_sampling/{class_id}/{name}.png\"\n",
    "    worse_sample = Image.open(worse_sample_filename)\n",
    "    new_sample = Image.open(new_sample_filename)\n",
    "    display(worse_sample)\n",
    "    display(new_sample)"
   ]
  },
  {
   "cell_type": "code",
   "execution_count": null,
   "metadata": {},
   "outputs": [],
   "source": []
  }
 ],
 "metadata": {
  "kernelspec": {
   "display_name": ".venv",
   "language": "python",
   "name": "python3"
  },
  "language_info": {
   "codemirror_mode": {
    "name": "ipython",
    "version": 3
   },
   "file_extension": ".py",
   "mimetype": "text/x-python",
   "name": "python",
   "nbconvert_exporter": "python",
   "pygments_lexer": "ipython3",
   "version": "3.11.7"
  }
 },
 "nbformat": 4,
 "nbformat_minor": 2
}
